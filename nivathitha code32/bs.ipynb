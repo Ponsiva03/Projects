{
 "cells": [
  {
   "cell_type": "code",
   "execution_count": null,
   "metadata": {},
   "outputs": [],
   "source": [
    "import requests\n",
    "from bs4 import BeautifulSoup\n",
    "\n",
    "def fetch_all_data(url):\n",
    "    # Make a request to the URL\n",
    "    response = requests.get(url)\n",
    "\n",
    "    # Check if the request was successful (status code 200)\n",
    "    if response.status_code == 200:\n",
    "        # Parse the HTML content using BeautifulSoup\n",
    "        soup = BeautifulSoup(response.content, 'html.parser')\n",
    "\n",
    "        # Find all text content within the HTML\n",
    "        all_text = soup.get_text(separator='\\n')  # Use '\\n' to separate different elements\n",
    "\n",
    "        return all_text\n",
    "    else:\n",
    "        print(f\"Failed to fetch content. Status Code: {response.status_code}\")\n",
    "        return None\n",
    "\n",
    "# Example usage:\n",
    "url = 'https://www.lg.com/us/air-conditioners/lg-lw1017ersm1-window-air-conditioner'\n",
    "all_data = fetch_all_data(url)\n",
    "\n",
    "if all_data:\n",
    "    print(all_data)\n"
   ]
  }
 ],
 "metadata": {
  "kernelspec": {
   "display_name": "myenv",
   "language": "python",
   "name": "python3"
  },
  "language_info": {
   "name": "python",
   "version": "3.11.2"
  }
 },
 "nbformat": 4,
 "nbformat_minor": 2
}
